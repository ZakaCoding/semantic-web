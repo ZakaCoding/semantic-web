{
  "nbformat": 4,
  "nbformat_minor": 0,
  "metadata": {
    "colab": {
      "name": "RDFLIB.ipynb",
      "provenance": [],
      "collapsed_sections": [],
      "authorship_tag": "ABX9TyPQANv7ePazg2LPzrNyMFDG",
      "include_colab_link": true
    },
    "kernelspec": {
      "name": "python3",
      "display_name": "Python 3"
    },
    "language_info": {
      "name": "python"
    }
  },
  "cells": [
    {
      "cell_type": "markdown",
      "metadata": {
        "id": "view-in-github",
        "colab_type": "text"
      },
      "source": [
        "<a href=\"https://colab.research.google.com/github/ZakaCoding/semantic-web/blob/main/RDFLIB.ipynb\" target=\"_parent\"><img src=\"https://colab.research.google.com/assets/colab-badge.svg\" alt=\"Open In Colab\"/></a>"
      ]
    },
    {
      "cell_type": "markdown",
      "metadata": {
        "id": "KK7z_TuOWQ_c"
      },
      "source": [
        "**Getting started with RDFLIB**\n",
        "\n",
        "RDFLib is open source and is maintained in a GitHub repository. RDFLib releases, current and previous are listed on [PyPi](http://pypi.python.org/pypi/rdflib/).\n",
        "\n",
        "Installation :\n"
      ]
    },
    {
      "cell_type": "code",
      "metadata": {
        "colab": {
          "base_uri": "https://localhost:8080/",
          "height": 0
        },
        "id": "la8M3-M-WF8M",
        "outputId": "88b3ef1c-16ee-45ff-82a3-b242d0562744"
      },
      "source": [
        "pip install rdflib"
      ],
      "execution_count": 7,
      "outputs": [
        {
          "output_type": "stream",
          "text": [
            "Collecting rdflib\n",
            "  Using cached https://files.pythonhosted.org/packages/d0/6b/6454aa1db753c0f8bc265a5bd5c10b5721a4bb24160fb4faf758cf6be8a1/rdflib-5.0.0-py3-none-any.whl\n",
            "Requirement already satisfied: pyparsing in /usr/local/lib/python3.7/dist-packages (from rdflib) (2.4.7)\n",
            "Requirement already satisfied: isodate in /usr/local/lib/python3.7/dist-packages (from rdflib) (0.6.0)\n",
            "Requirement already satisfied: six in /usr/local/lib/python3.7/dist-packages (from rdflib) (1.15.0)\n",
            "Installing collected packages: rdflib\n",
            "Successfully installed rdflib-5.0.0\n"
          ],
          "name": "stdout"
        },
        {
          "output_type": "stream",
          "text": [
            "Exception ignored in: <_io.FileIO name='/usr/local/lib/python3.7/dist-packages/rdflib-5.0.0.dist-info/top_level.txt' mode='rb' closefd=True>\n",
            "ResourceWarning: unclosed file <_io.TextIOWrapper name='/usr/local/lib/python3.7/dist-packages/rdflib-5.0.0.dist-info/top_level.txt' mode='r' encoding='UTF-8'>\n"
          ],
          "name": "stderr"
        }
      ]
    },
    {
      "cell_type": "markdown",
      "metadata": {
        "id": "lwMOGsuHW_7B"
      },
      "source": [
        "**How it all works**\n",
        "\n",
        "*The package uses various Python idioms that offer an appropriate way to introduce RDF to a Python programmer who hasn’t worked with RDF before.*\n",
        "The primary interface that RDFLib exposes for working with RDF is a [Graph](https://https://rdflib.readthedocs.io/en/stable/apidocs/rdflib.html#rdflib.graph.Graph)."
      ]
    },
    {
      "cell_type": "markdown",
      "metadata": {
        "id": "QlJ0WKhEXC2Q"
      },
      "source": [
        "Example RDFLIB :"
      ]
    },
    {
      "cell_type": "code",
      "metadata": {
        "colab": {
          "base_uri": "https://localhost:8080/",
          "height": 0
        },
        "id": "sk7ApkkhYVsH",
        "outputId": "7688d5f5-1400-4f66-9b78-b49bca2994a4"
      },
      "source": [
        "import rdflib\n",
        "\n",
        "# create a Graph\n",
        "\n",
        "g = rdflib.Graph()\n",
        "\n",
        "# parse in an RDF file hosted on internet\n",
        "result = g.parse(\"http://www.w3.org/People/Berners-Lee/card\")\n",
        "\n",
        "# Loop trhough each triple in the graph (subj, pred, obj)\n",
        "for subj, pred, obj in g:\n",
        "    # check if there is at least one triple in the graph\n",
        "    if (subj, pred, obj) not in g:\n",
        "        raise Exception(\"It better be!\")\n",
        "\n",
        "# print the number of \"Triles\" in the Graph\n",
        "print(\"graph has {} statements.\" . format(len(g)))\n",
        "# print graph has 86 statements.\n",
        "\n",
        "# print out the entire Graph in the RDF Turtle format.\n",
        "print(g.serialize(format = \"turtle\").decode(\"utf-8\"))"
      ],
      "execution_count": 11,
      "outputs": [
        {
          "output_type": "stream",
          "text": [
            "graph has 86 statements.\n",
            "@prefix : <http://xmlns.com/foaf/0.1/> .\n",
            "@prefix cc: <http://creativecommons.org/ns#> .\n",
            "@prefix cert: <http://www.w3.org/ns/auth/cert#> .\n",
            "@prefix con: <http://www.w3.org/2000/10/swap/pim/contact#> .\n",
            "@prefix dc: <http://purl.org/dc/elements/1.1/> .\n",
            "@prefix dct: <http://purl.org/dc/terms/> .\n",
            "@prefix doap: <http://usefulinc.com/ns/doap#> .\n",
            "@prefix geo: <http://www.w3.org/2003/01/geo/wgs84_pos#> .\n",
            "@prefix ldp: <http://www.w3.org/ns/ldp#> .\n",
            "@prefix rdfs: <http://www.w3.org/2000/01/rdf-schema#> .\n",
            "@prefix schema: <http://schema.org/> .\n",
            "@prefix sioc: <http://rdfs.org/sioc/ns#> .\n",
            "@prefix solid: <http://www.w3.org/ns/solid/terms#> .\n",
            "@prefix space: <http://www.w3.org/ns/pim/space#> .\n",
            "@prefix vcard: <http://www.w3.org/2006/vcard/ns#> .\n",
            "@prefix xsd: <http://www.w3.org/2001/XMLSchema#> .\n",
            "\n",
            "<http://dig.csail.mit.edu/2005/ajar/ajaw/data#Tabulator> doap:developer <https://www.w3.org/People/Berners-Lee/card#i> .\n",
            "\n",
            "<http://dig.csail.mit.edu/2007/01/camp/data#course> :maker <https://www.w3.org/People/Berners-Lee/card#i> .\n",
            "\n",
            "<http://dig.csail.mit.edu/data#DIG> :member <https://www.w3.org/People/Berners-Lee/card#i> .\n",
            "\n",
            "<http://wiki.ontoworld.org/index.php/_IRW2006> dc:title \"Identity, Reference and the Web workshop 2006\" ;\n",
            "    con:participant <https://www.w3.org/People/Berners-Lee/card#i> .\n",
            "\n",
            "<http://www.ecs.soton.ac.uk/~dt2/dlstuff/www2006_data#panel-panelk01> rdfs:label \"The Next Wave of the Web (Plenary Panel)\" ;\n",
            "    con:participant <https://www.w3.org/People/Berners-Lee/card#i> .\n",
            "\n",
            "<http://www.w3.org/2000/10/swap/data#Cwm> doap:developer <https://www.w3.org/People/Berners-Lee/card#i> .\n",
            "\n",
            "<http://www.w3.org/2011/Talks/0331-hyderabad-tbl/data#talk> dct:title \"Designing the Web for an Open Society\" ;\n",
            "    :maker <https://www.w3.org/People/Berners-Lee/card#i> .\n",
            "\n",
            "<http://www.w3.org/DesignIssues/Overview.html> dc:title \"Design Issues for the World Wide Web\" ;\n",
            "    :maker <https://www.w3.org/People/Berners-Lee/card#i> .\n",
            "\n",
            "<http://www.w3.org/People/Berners-Lee/card> a :PersonalProfileDocument ;\n",
            "    cc:license <http://creativecommons.org/licenses/by-nc/3.0/> ;\n",
            "    dc:title \"Tim Berners-Lee's FOAF file\" ;\n",
            "    :maker <https://www.w3.org/People/Berners-Lee/card#i> ;\n",
            "    :primaryTopic <https://www.w3.org/People/Berners-Lee/card#i> .\n",
            "\n",
            "<http://www.w3.org/People/Berners-Lee/card#i> cert:key [ a cert:RSAPublicKey ;\n",
            "            cert:exponent 65537 ;\n",
            "            cert:modulus \"ebe99c737bd3670239600547e5e2eb1d1497da39947b6576c3c44ffeca32cf0f2f7cbee3c47001278a90fc7fc5bcf292f741eb1fcd6bbe7f90650afb519cf13e81b2bffc6e02063ee5a55781d420b1dfaf61c15758480e66d47fb0dcb5fa7b9f7f1052e5ccbd01beee9553c3b6b51f4daf1fce991294cd09a3d1d636bc6c7656e4455d0aff06daec740ed0084aa6866fcae1359de61cc12dbe37c8fa42e977c6e727a8258bb9a3f265b27e3766fe0697f6aa0bcc81c3f026e387bd7bbc81580dc1853af2daa099186a9f59da526474ef6ec0a3d84cf400be3261b6b649dea1f78184862d34d685d2d587f09acc14cd8e578fdd2283387821296f0af39b8d8845\"^^xsd:hexBinary ] .\n",
            "\n",
            "<http://www.w3.org/data#W3C> :member <https://www.w3.org/People/Berners-Lee/card#i> .\n",
            "\n",
            "<http://dig.csail.mit.edu/breadcrumbs/blog/4> dc:title \"timbl's blog on DIG\" ;\n",
            "    rdfs:seeAlso <http://dig.csail.mit.edu/breadcrumbs/blog/feed/4> ;\n",
            "    :maker <https://www.w3.org/People/Berners-Lee/card#i> .\n",
            "\n",
            "<https://timbl.com/timbl/Public/friends.ttl> a :PersonalProfileDocument ;\n",
            "    cc:license <http://creativecommons.org/licenses/by-nc/3.0/> ;\n",
            "    dc:title \"Tim Berners-Lee's editable profile\" ;\n",
            "    :maker <https://www.w3.org/People/Berners-Lee/card#i> ;\n",
            "    :primaryTopic <https://www.w3.org/People/Berners-Lee/card#i> .\n",
            "\n",
            "<https://www.w3.org/People/Berners-Lee/card#i> a con:Male,\n",
            "        :Person ;\n",
            "    rdfs:label \"Tim Berners-Lee\" ;\n",
            "    sioc:avatar <http://www.w3.org/People/Berners-Lee/images/timbl-image-by-Coz-cropped.jpg> ;\n",
            "    schema:owns <https://timblbot.inrupt.net/profile/card#me> ;\n",
            "    rdfs:seeAlso <https://timbl.com/timbl/Public/friends.ttl> ;\n",
            "    con:assistant <https://www.w3.org/People/Berners-Lee/card#amy> ;\n",
            "    con:homePage <http://www.w3.org/People/Berners-Lee/> ;\n",
            "    con:office [ con:address [ con:city \"Cambridge\" ;\n",
            "                    con:country \"USA\" ;\n",
            "                    con:postalCode \"02139\" ;\n",
            "                    con:street \"32 Vassar Street\" ;\n",
            "                    con:street2 \"MIT CSAIL Building 32\" ] ;\n",
            "            geo:location [ geo:lat \"42.361860\" ;\n",
            "                    geo:long \"-71.091840\" ] ] ;\n",
            "    con:preferredURI \"https://www.w3.org/People/Berners-Lee/card#i\" ;\n",
            "    con:publicHomePage <http://www.w3.org/People/Berners-Lee/> ;\n",
            "    vcard:fn \"Tim Berners-Lee\" ;\n",
            "    vcard:hasAddress [ a vcard:Work ;\n",
            "            vcard:locality \"Cambridge\" ;\n",
            "            vcard:postal-code \"02139\" ;\n",
            "            vcard:region \"MA\" ;\n",
            "            vcard:street-address \"32 Vassar Street\" ] ;\n",
            "    ldp:inbox <https://timbl.com/timbl/Public/Inbox> ;\n",
            "    space:preferencesFile <https://timbl.com/timbl/Data/preferences.n3> ;\n",
            "    space:storage <https://timbl.com/timbl/Public/>,\n",
            "        <https://timbl.inrupt.net/>,\n",
            "        <https://timbl.solid.community/> ;\n",
            "    solid:editableProfile <https://timbl.com/timbl/Public/friends.ttl> ;\n",
            "    solid:oidcIssuer <https://timbl.com> ;\n",
            "    solid:profileBackgroundColor \"#ffffff\" ;\n",
            "    solid:profileHighlightColor \"#00467E\" ;\n",
            "    solid:publicTypeIndex <https://timbl.com/timbl/Public/PublicTypeIndex.ttl> ;\n",
            "    :account <http://en.wikipedia.org/wiki/User:Timbl>,\n",
            "        <http://twitter.com/timberners_lee>,\n",
            "        <http://www.reddit.com/user/timbl/> ;\n",
            "    :based_near [ geo:lat \"42.361860\" ;\n",
            "            geo:long \"-71.091840\" ] ;\n",
            "    :family_name \"Berners-Lee\" ;\n",
            "    :givenname \"Timothy\" ;\n",
            "    :homepage <https://www.w3.org/People/Berners-Lee/> ;\n",
            "    :img <https://www.w3.org/Press/Stock/Berners-Lee/2001-europaeum-eighth.jpg> ;\n",
            "    :mbox <mailto:timbl@w3.org> ;\n",
            "    :mbox_sha1sum \"965c47c5a70db7407210cef6e4e6f5374a525c5c\" ;\n",
            "    :name \"Timothy Berners-Lee\" ;\n",
            "    :nick \"TimBL\",\n",
            "        \"timbl\" ;\n",
            "    :openid <https://www.w3.org/People/Berners-Lee/> ;\n",
            "    :title \"Sir\" ;\n",
            "    :weblog <http://dig.csail.mit.edu/breadcrumbs/blog/4> ;\n",
            "    :workplaceHomepage <https://www.w3.org/> .\n",
            "\n",
            "\n"
          ],
          "name": "stdout"
        }
      ]
    },
    {
      "cell_type": "markdown",
      "metadata": {
        "id": "T8SufDXbbXNf"
      },
      "source": [
        "Extensive Example :"
      ]
    },
    {
      "cell_type": "code",
      "metadata": {
        "colab": {
          "base_uri": "https://localhost:8080/",
          "height": 0
        },
        "id": "fthZOMvobdiY",
        "outputId": "5c210e10-f796-4a74-89c8-4be0ff12f5a1"
      },
      "source": [
        "from rdflib import Graph, Literal, RDF, URIRef\n",
        "# rdflib knows about some spaces, Like FOAF\n",
        "from rdflib.namespace import FOAF, XSD\n",
        "\n",
        "# create a Graph\n",
        "g = Graph()\n",
        "\n",
        "# create an RDF URI node to use as the subject for multiple triples\n",
        "donna = URIRef(\"http://example.org/donna\")\n",
        "\n",
        "# Add triples using store's add() method.\n",
        "g.add((donna, RDF.type, FOAF.Person))\n",
        "g.add((donna, FOAF.nick, Literal(\"donna\", lang=\"ed\")))\n",
        "g.add((donna, FOAF.name, Literal(\"Donna Fales\")))\n",
        "g.add((donna, FOAF.mbox, URIRef(\"mailto:donna@example.org\")))\n",
        "\n",
        "# Add another person\n",
        "zek = URIRef(\"http://example.org/zaka\")\n",
        "\n",
        "# Add triples using store's add() method.\n",
        "g.add((zek, RDF.type, FOAF.Person))\n",
        "g.add((zek, FOAF.nick, Literal(\"zek\", datatype=XSD.string)))\n",
        "g.add((zek, FOAF.name, Literal(\"Zaka M. Noor\")))\n",
        "g.add((zek, FOAF.mbox, URIRef(\"mailto:zakanoor@outlook.co.id\")))\n",
        "\n",
        "# Iterate over triples in store and print them out\n",
        "print(\"--- printing raw triples ---\")\n",
        "for s, p, o in g:\n",
        "  print((s, p , o))\n",
        "\n",
        "# For each foaf:person in the store, print out their mbox property's values.\n",
        "print(\"--- printing mbox ---\")\n",
        "for person in g.subjects(RDF.type, FOAF.Person):\n",
        "  for mbox in g.objects(person, FOAF.mbox):\n",
        "    print(mbox)\n",
        "\n",
        "# Bind the FOAF namespace to a prefix for more readable output\n",
        "g.bind(\"foaf\", FOAF)\n",
        "\n",
        "# Print all the data in the Notation3 format\n",
        "print(\"--- printing mboxes ---\")\n",
        "print(g.serialize(format='n3').decode(\"utf-8\"))"
      ],
      "execution_count": 14,
      "outputs": [
        {
          "output_type": "stream",
          "text": [
            "--- printing raw triples ---\n",
            "(rdflib.term.URIRef('http://example.org/donna'), rdflib.term.URIRef('http://xmlns.com/foaf/0.1/mbox'), rdflib.term.URIRef('mailto:donna@example.org'))\n",
            "(rdflib.term.URIRef('http://example.org/donna'), rdflib.term.URIRef('http://xmlns.com/foaf/0.1/nick'), rdflib.term.Literal('donna', lang='ed'))\n",
            "(rdflib.term.URIRef('http://example.org/zaka'), rdflib.term.URIRef('http://xmlns.com/foaf/0.1/nick'), rdflib.term.Literal('zek', datatype=rdflib.term.URIRef('http://www.w3.org/2001/XMLSchema#string')))\n",
            "(rdflib.term.URIRef('http://example.org/zaka'), rdflib.term.URIRef('http://xmlns.com/foaf/0.1/mbox'), rdflib.term.URIRef('mailto:zakanoor@outlook.co.id'))\n",
            "(rdflib.term.URIRef('http://example.org/donna'), rdflib.term.URIRef('http://xmlns.com/foaf/0.1/name'), rdflib.term.Literal('Donna Fales'))\n",
            "(rdflib.term.URIRef('http://example.org/zaka'), rdflib.term.URIRef('http://www.w3.org/1999/02/22-rdf-syntax-ns#type'), rdflib.term.URIRef('http://xmlns.com/foaf/0.1/Person'))\n",
            "(rdflib.term.URIRef('http://example.org/donna'), rdflib.term.URIRef('http://www.w3.org/1999/02/22-rdf-syntax-ns#type'), rdflib.term.URIRef('http://xmlns.com/foaf/0.1/Person'))\n",
            "(rdflib.term.URIRef('http://example.org/zaka'), rdflib.term.URIRef('http://xmlns.com/foaf/0.1/name'), rdflib.term.Literal('Zaka M. Noor'))\n",
            "--- printing mbox ---\n",
            "mailto:zakanoor@outlook.co.id\n",
            "mailto:donna@example.org\n",
            "--- printing mboxes ---\n",
            "@prefix foaf: <http://xmlns.com/foaf/0.1/> .\n",
            "@prefix xsd: <http://www.w3.org/2001/XMLSchema#> .\n",
            "\n",
            "<http://example.org/donna> a foaf:Person ;\n",
            "    foaf:mbox <mailto:donna@example.org> ;\n",
            "    foaf:name \"Donna Fales\" ;\n",
            "    foaf:nick \"donna\"@ed .\n",
            "\n",
            "<http://example.org/zaka> a foaf:Person ;\n",
            "    foaf:mbox <mailto:zakanoor@outlook.co.id> ;\n",
            "    foaf:name \"Zaka M. Noor\" ;\n",
            "    foaf:nick \"zek\"^^xsd:string .\n",
            "\n",
            "\n"
          ],
          "name": "stdout"
        }
      ]
    },
    {
      "cell_type": "code",
      "metadata": {
        "id": "VYHTXdGJe_Uw"
      },
      "source": [
        ""
      ],
      "execution_count": null,
      "outputs": []
    }
  ]
}